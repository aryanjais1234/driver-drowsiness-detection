{
 "cells": [
  {
   "cell_type": "code",
   "execution_count": 1,
   "id": "cd2a38d9",
   "metadata": {},
   "outputs": [],
   "source": [
    "import os               # for directory\n",
    "import shutil           # for copy paste files\n",
    "import glob\n",
    "from tqdm import tqdm"
   ]
  },
  {
   "cell_type": "code",
   "execution_count": 7,
   "id": "f1a77eaa",
   "metadata": {},
   "outputs": [
    {
     "name": "stderr",
     "output_type": "stream",
     "text": [
      "0it [00:00, ?it/s]\n",
      "100%|█████████████████████████████████████████████████████████████████████████████| 3242/3242 [00:27<00:00, 117.44it/s]\n",
      "100%|█████████████████████████████████████████████████████████████████████████████| 1114/1114 [00:09<00:00, 122.22it/s]\n",
      "100%|███████████████████████████████████████████████████████████████████████████████| 679/679 [00:05<00:00, 125.66it/s]\n",
      "100%|█████████████████████████████████████████████████████████████████████████████| 1069/1069 [00:08<00:00, 129.29it/s]\n",
      "100%|███████████████████████████████████████████████████████████████████████████████| 736/736 [00:05<00:00, 127.07it/s]\n",
      "100%|█████████████████████████████████████████████████████████████████████████████| 1012/1012 [00:07<00:00, 128.15it/s]\n",
      "100%|███████████████████████████████████████████████████████████████████████████████| 624/624 [00:04<00:00, 128.23it/s]\n",
      "100%|███████████████████████████████████████████████████████████████████████████████| 832/832 [00:06<00:00, 127.59it/s]\n",
      "100%|███████████████████████████████████████████████████████████████████████████████| 387/387 [00:03<00:00, 124.59it/s]\n",
      "100%|███████████████████████████████████████████████████████████████████████████████| 399/399 [00:03<00:00, 117.40it/s]\n",
      "100%|█████████████████████████████████████████████████████████████████████████████| 1648/1648 [00:12<00:00, 128.07it/s]\n",
      "100%|█████████████████████████████████████████████████████████████████████████████| 8728/8728 [01:16<00:00, 114.64it/s]\n",
      "100%|█████████████████████████████████████████████████████████████████████████████| 3605/3605 [00:30<00:00, 119.35it/s]\n",
      "100%|█████████████████████████████████████████████████████████████████████████████| 8884/8884 [01:18<00:00, 113.17it/s]\n",
      "100%|█████████████████████████████████████████████████████████████████████████████| 1132/1132 [00:09<00:00, 123.25it/s]\n",
      "100%|█████████████████████████████████████████████████████████████████████████████| 1889/1889 [00:15<00:00, 121.12it/s]\n",
      "100%|█████████████████████████████████████████████████████████████████████████████| 1648/1648 [00:13<00:00, 122.21it/s]\n",
      "100%|█████████████████████████████████████████████████████████████████████████████| 4410/4410 [00:35<00:00, 124.26it/s]\n",
      "100%|█████████████████████████████████████████████████████████████████████████████| 6175/6175 [00:50<00:00, 121.31it/s]\n",
      "100%|███████████████████████████████████████████████████████████████████████████████| 704/704 [00:05<00:00, 124.78it/s]\n",
      "100%|███████████████████████████████████████████████████████████████████████████████| 987/987 [00:07<00:00, 124.42it/s]\n",
      "100%|███████████████████████████████████████████████████████████████████████████████| 382/382 [00:03<00:00, 124.88it/s]\n",
      "100%|███████████████████████████████████████████████████████████████████████████████| 522/522 [00:04<00:00, 117.70it/s]\n",
      "100%|███████████████████████████████████████████████████████████████████████████████| 752/752 [00:06<00:00, 121.05it/s]\n",
      "100%|█████████████████████████████████████████████████████████████████████████████| 1502/1502 [00:12<00:00, 123.68it/s]\n",
      "100%|█████████████████████████████████████████████████████████████████████████████| 1246/1246 [00:10<00:00, 123.75it/s]\n",
      "100%|███████████████████████████████████████████████████████████████████████████████| 665/665 [00:05<00:00, 122.92it/s]\n",
      "100%|███████████████████████████████████████████████████████████████████████████████| 736/736 [00:06<00:00, 119.14it/s]\n",
      "100%|█████████████████████████████████████████████████████████████████████████████| 1393/1393 [00:11<00:00, 122.75it/s]\n",
      "100%|█████████████████████████████████████████████████████████████████████████████| 1384/1384 [00:11<00:00, 119.89it/s]\n",
      "100%|█████████████████████████████████████████████████████████████████████████████| 1738/1738 [00:14<00:00, 117.52it/s]\n",
      "100%|█████████████████████████████████████████████████████████████████████████████| 6162/6162 [00:52<00:00, 117.32it/s]\n",
      "100%|███████████████████████████████████████████████████████████████████████████████| 681/681 [00:06<00:00, 111.55it/s]\n",
      "100%|███████████████████████████████████████████████████████████████████████████████| 739/739 [00:06<00:00, 113.33it/s]\n",
      "100%|███████████████████████████████████████████████████████████████████████████████| 642/642 [00:05<00:00, 109.39it/s]\n",
      "100%|█████████████████████████████████████████████████████████████████████████████| 6193/6193 [00:53<00:00, 115.49it/s]\n",
      "100%|███████████████████████████████████████████████████████████████████████████| 10257/10257 [01:27<00:00, 117.16it/s]\n"
     ]
    }
   ],
   "source": [
    "Raw_DIR= r'F:\\Drowsiness-Detection--main\\mrlEyes_2018_01'\n",
    "for dirpath, dirname, filenames in os.walk(Raw_DIR):\n",
    "    for i in tqdm([f for f in filenames if f.endswith('.png')]):\n",
    "        if i.split('_')[4]=='0':\n",
    "            shutil.copy(src=dirpath+'/'+i,dst=r'F:\\Drowsiness-Detection--main\\Prepared_Data\\Close_Eyes')\n",
    "        \n",
    "        elif i.split('_')[4]=='1':\n",
    "            shutil.copy(src=dirpath+'/'+i,dst=r'F:\\Drowsiness-Detection--main\\Prepared_Data\\Open_Eyes')\n",
    "            \n",
    "            "
   ]
  },
  {
   "cell_type": "code",
   "execution_count": 14,
   "id": "17904d5c",
   "metadata": {},
   "outputs": [
    {
     "ename": "FileNotFoundError",
     "evalue": "[WinError 3] The system cannot find the path specified: 'F:\\\\Drowsiness-Detection--main\\\\Prepared_Data\\\\Close_Eyes'",
     "output_type": "error",
     "traceback": [
      "\u001b[1;31m---------------------------------------------------------------------------\u001b[0m",
      "\u001b[1;31mFileNotFoundError\u001b[0m                         Traceback (most recent call last)",
      "Input \u001b[1;32mIn [14]\u001b[0m, in \u001b[0;36m<cell line: 8>\u001b[1;34m()\u001b[0m\n\u001b[0;32m      5\u001b[0m dst_dir \u001b[38;5;241m=\u001b[39m \u001b[38;5;124mr\u001b[39m\u001b[38;5;124m'\u001b[39m\u001b[38;5;124mF:\u001b[39m\u001b[38;5;124m\\\u001b[39m\u001b[38;5;124mDrowsiness-Detection--main\u001b[39m\u001b[38;5;124m\\\u001b[39m\u001b[38;5;124mPrepared_Data\u001b[39m\u001b[38;5;124m\\\u001b[39m\u001b[38;5;124mtrain\u001b[39m\u001b[38;5;124m\\\u001b[39m\u001b[38;5;124mClose_Eyes\u001b[39m\u001b[38;5;124m'\u001b[39m\n\u001b[0;32m      7\u001b[0m \u001b[38;5;66;03m# Get a list of all the files in the source directory\u001b[39;00m\n\u001b[1;32m----> 8\u001b[0m files \u001b[38;5;241m=\u001b[39m \u001b[43mos\u001b[49m\u001b[38;5;241;43m.\u001b[39;49m\u001b[43mlistdir\u001b[49m\u001b[43m(\u001b[49m\u001b[43msrc_dir\u001b[49m\u001b[43m)\u001b[49m\n\u001b[0;32m     10\u001b[0m \u001b[38;5;66;03m# Calculate the number of files to be moved\u001b[39;00m\n\u001b[0;32m     11\u001b[0m num_files \u001b[38;5;241m=\u001b[39m \u001b[38;5;28mlen\u001b[39m(files)\n",
      "\u001b[1;31mFileNotFoundError\u001b[0m: [WinError 3] The system cannot find the path specified: 'F:\\\\Drowsiness-Detection--main\\\\Prepared_Data\\\\Close_Eyes'"
     ]
    }
   ],
   "source": [
    "# Define the source and destination directories \n",
    "# for close_eyes test\n",
    "\n",
    "src_dir = r'F:\\Drowsiness-Detection--main\\Prepared_Data\\Close_Eyes'\n",
    "dst_dir = r'F:\\Drowsiness-Detection--main\\Prepared_Data\\train\\Close_Eyes'\n",
    "\n",
    "# Get a list of all the files in the source directory\n",
    "files = os.listdir(src_dir)\n",
    "\n",
    "# Calculate the number of files to be moved\n",
    "num_files = len(files)\n",
    "num_files_to_move = int(num_files * 0.9)\n",
    "\n",
    "# Loop through the files and move the specified number of files to the destination directory\n",
    "for i in range(num_files_to_move):\n",
    "    file = files[i]\n",
    "    src_file_path = os.path.join(src_dir, file)\n",
    "    dst_file_path = os.path.join(dst_dir, file)\n",
    "    shutil.move(src_file_path, dst_file_path)"
   ]
  },
  {
   "cell_type": "code",
   "execution_count": 11,
   "id": "3c1c10b1",
   "metadata": {},
   "outputs": [],
   "source": [
    "# Define the source and destination directories \n",
    "# for open_eyes test\n",
    "\n",
    "src_dir = r'F:\\Drowsiness-Detection--main\\Prepared_Data\\Open_Eyes'\n",
    "dst_dir = r'F:\\Drowsiness-Detection--main\\Prepared_Data\\train\\Open_Eyes'\n",
    "\n",
    "# Get a list of all the files in the source directory\n",
    "files = os.listdir(src_dir)\n",
    "\n",
    "# Calculate the number of files to be moved\n",
    "num_files = len(files)\n",
    "num_files_to_move = int(num_files * 0.9)\n",
    "\n",
    "# Loop through the files and move the specified number of files to the destination directory\n",
    "for i in range (num_files_to_move):\n",
    "    file = files[i]\n",
    "    src_file_path = os.path.join(src_dir, file)\n",
    "    dst_file_path = os.path.join(dst_dir, file)\n",
    "    shutil.move(src_file_path, dst_file_path)"
   ]
  },
  {
   "cell_type": "code",
   "execution_count": 12,
   "id": "946b7ed7",
   "metadata": {},
   "outputs": [],
   "source": [
    "# Define the source and destination directories \n",
    "# for close_eyes train \n",
    "\n",
    "src_dir = r'F:\\Drowsiness-Detection--main\\Prepared_Data\\Close_Eyes'\n",
    "dst_dir = r'F:\\Drowsiness-Detection--main\\Prepared_Data\\test\\Close_Eyes'\n",
    "\n",
    "# Get a list of all the files in the source directory\n",
    "files = os.listdir(src_dir)\n",
    "\n",
    "# Calculate the number of files to be moved\n",
    "num_files = len(files)\n",
    "num_files_to_move = int(num_files * 1)\n",
    "\n",
    "# Loop through the files and move the specified number of files to the destination directory\n",
    "for i in range (num_files_to_move):\n",
    "    file = files[i]\n",
    "    src_file_path = os.path.join(src_dir, file)\n",
    "    dst_file_path = os.path.join(dst_dir, file)\n",
    "    shutil.move(src_file_path, dst_file_path)"
   ]
  },
  {
   "cell_type": "code",
   "execution_count": 13,
   "id": "8d5bbcc7",
   "metadata": {},
   "outputs": [],
   "source": [
    "# Define the source and destination directories \n",
    "# for open_eyes train \n",
    "\n",
    "src_dir = r'F:\\Drowsiness-Detection--main\\Prepared_Data\\Open_Eyes'\n",
    "dst_dir = r'F:\\Drowsiness-Detection--main\\Prepared_Data\\test\\Open_Eyes'\n",
    "\n",
    "# Get a list of all the files in the source directory\n",
    "files = os.listdir(src_dir)\n",
    "\n",
    "# Calculate the number of files to be moved\n",
    "num_files = len(files)\n",
    "num_files_to_move = int(num_files * 1)\n",
    "\n",
    "# Loop through the files and move the specified number of files to the destination directory\n",
    "for i in range (num_files_to_move):\n",
    "    file = files[i]\n",
    "    src_file_path = os.path.join(src_dir, file)\n",
    "    dst_file_path = os.path.join(dst_dir, file)\n",
    "    shutil.move(src_file_path, dst_file_path)"
   ]
  },
  {
   "cell_type": "code",
   "execution_count": null,
   "id": "077854a3",
   "metadata": {},
   "outputs": [],
   "source": []
  }
 ],
 "metadata": {
  "kernelspec": {
   "display_name": "Python 3 (ipykernel)",
   "language": "python",
   "name": "python3"
  },
  "language_info": {
   "codemirror_mode": {
    "name": "ipython",
    "version": 3
   },
   "file_extension": ".py",
   "mimetype": "text/x-python",
   "name": "python",
   "nbconvert_exporter": "python",
   "pygments_lexer": "ipython3",
   "version": "3.8.5"
  }
 },
 "nbformat": 4,
 "nbformat_minor": 5
}
